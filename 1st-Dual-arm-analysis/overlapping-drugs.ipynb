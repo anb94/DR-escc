{
 "cells": [
  {
   "cell_type": "code",
   "execution_count": null,
   "metadata": {},
   "outputs": [],
   "source": [
    "import os\n",
    "import pandas as pd"
   ]
  },
  {
   "cell_type": "markdown",
   "metadata": {},
   "source": [
    "Import the GSEA only arm files."
   ]
  },
  {
   "cell_type": "code",
   "execution_count": null,
   "metadata": {},
   "outputs": [],
   "source": [
    "# Network Meta File\n",
    "\n",
    "GSEA_net_meta_file = \"/Users/anb/Documents/CMEB-Lab/ESCC-Drug-Repositioning/DR-escc-data/output/GSE23400/1st-dual-arm-analysis/GSEA-only-arm/network-meta/Meta-human-genes-15-march-redo/xaR2n7BXuo_app2result.txt\"\n",
    "\n",
    "GSEA_net_meta = pd.read_csv(\n",
    "    GSEA_net_meta_file, comment=\"#\", header=0, sep='\\t', low_memory=False\n",
    ")\n",
    "\n",
    "# Network Top 500 file\n",
    "\n",
    "GSEA_net_500_file = \"/Users/anb/Documents/CMEB-Lab/ESCC-Drug-Repositioning/DR-escc-data/output/GSE23400/1st-dual-arm-analysis/GSEA-only-arm/network-top500/20j2lKkkjD-Mergeomics-top500-updated.tsv\"\n",
    "\n",
    "GSEA_net_500 = pd.read_csv(\n",
    "    GSEA_net_500_file, comment=\"#\", header=0, sep='\\t', low_memory=False\n",
    ")\n",
    "\n",
    "# Overlap file\n",
    "\n",
    "GSEA_overlap_file = \"/Users/anb/Documents/CMEB-Lab/ESCC-Drug-Repositioning/DR-escc-data/output/GSE23400/1st-dual-arm-analysis/GSEA-only-arm/overlap/f5gFthEq8G_app3result.txt\"\n",
    "\n",
    "GSEA_overlap = pd.read_csv(\n",
    "    GSEA_overlap_file, comment=\"#\", header=0, sep='\\t', low_memory=False\n",
    ")\n"
   ]
  },
  {
   "cell_type": "markdown",
   "metadata": {},
   "source": [
    "Import the wKDA arm files."
   ]
  },
  {
   "cell_type": "code",
   "execution_count": null,
   "metadata": {},
   "outputs": [],
   "source": [
    "# wkda Network Meta File\n",
    "\n",
    "wkda_net_meta_file = \"/Users/anb/Documents/CMEB-Lab/ESCC-Drug-Repositioning/DR-escc-data/output/GSE23400/1st-dual-arm-analysis/wKDA-arm/network-meta/Cru23plOJu_app2result.txt\"\n",
    "\n",
    "wkda_net_meta = pd.read_csv(\n",
    "    wkda_net_meta_file, comment=\"#\", header=0, sep='\\t', low_memory=False\n",
    ")\n",
    "\n",
    "# Network Top 500 file\n",
    "\n",
    "wkda_net_500_file = \"/Users/anb/Documents/CMEB-Lab/ESCC-Drug-Repositioning/DR-escc-data/output/GSE23400/1st-dual-arm-analysis/wKDA-arm/network-top500/wDlxSsVxjv-wkda-13-03-22-updated.tsv\"\n",
    "\n",
    "wkda_net_500 = pd.read_csv(\n",
    "    wkda_net_500_file, comment=\"#\", header=0, sep='\\t', low_memory=False\n",
    ")\n",
    "\n",
    "# Overlap file\n",
    "\n",
    "wkda_overlap_file = \"/Users/anb/Documents/CMEB-Lab/ESCC-Drug-Repositioning/DR-escc-data/output/GSE23400/1st-dual-arm-analysis/wKDA-arm/overlap/gklPh0nN48.KDA2PHARM_app3result.txt\"\n",
    "\n",
    "wkda_overlap = pd.read_csv(\n",
    "    wkda_overlap_file, comment=\"#\", header=0, sep='\\t', low_memory=False\n",
    ")\n"
   ]
  },
  {
   "cell_type": "markdown",
   "metadata": {},
   "source": [
    "Filter the loaded in datasets:\n",
    "- GSEA_net_meta\n",
    "- GSEA_net_500\n",
    "- GSEA_overlap\n",
    "- wkda_net_meta\n",
    "- wkda_net_500\n",
    "- wkda_overlap"
   ]
  },
  {
   "cell_type": "markdown",
   "metadata": {},
   "source": [
    "Staring with GSEA_net_meta, make sure the data is loaded in correctly."
   ]
  },
  {
   "cell_type": "code",
   "execution_count": null,
   "metadata": {},
   "outputs": [],
   "source": [
    "GSEA_net_meta"
   ]
  },
  {
   "cell_type": "markdown",
   "metadata": {},
   "source": [
    "As we are only interested in human data, first check for non-human data and remove if needed."
   ]
  },
  {
   "cell_type": "code",
   "execution_count": null,
   "metadata": {},
   "outputs": [],
   "source": [
    "GSEA_net_meta[GSEA_net_meta[\"Species\"] != \"Homo sapiens\"]"
   ]
  },
  {
   "cell_type": "markdown",
   "metadata": {},
   "source": [
    "Sort the df according to drug and rank"
   ]
  },
  {
   "cell_type": "code",
   "execution_count": null,
   "metadata": {},
   "outputs": [],
   "source": [
    "GSEA_net_meta_sorted_drug = GSEA_net_meta.sort_values(['Drug', 'Rank'], axis=0, ascending=False, inplace=False)"
   ]
  },
  {
   "cell_type": "code",
   "execution_count": null,
   "metadata": {},
   "outputs": [],
   "source": [
    "GSEA_net_meta_sorted_drug"
   ]
  },
  {
   "cell_type": "markdown",
   "metadata": {},
   "source": [
    "Remove the duplicates of drugs, keeping only the first occurrence as it as the highest p-value"
   ]
  },
  {
   "cell_type": "code",
   "execution_count": null,
   "metadata": {},
   "outputs": [],
   "source": [
    "GSEA_net_meta_sorted_drug.drop_duplicates(subset = [\"Drug\"], inplace=True)"
   ]
  },
  {
   "cell_type": "code",
   "execution_count": null,
   "metadata": {},
   "outputs": [],
   "source": [
    "GSEA_net_meta_sorted_drug"
   ]
  },
  {
   "cell_type": "markdown",
   "metadata": {},
   "source": [
    "Sort the df according to Rank."
   ]
  },
  {
   "cell_type": "code",
   "execution_count": null,
   "metadata": {},
   "outputs": [],
   "source": [
    "GSEA_net_meta_sorted_rank = GSEA_net_meta_sorted_drug.sort_values(['Rank'], axis=0, ascending=False, inplace=False)"
   ]
  },
  {
   "cell_type": "code",
   "execution_count": null,
   "metadata": {},
   "outputs": [],
   "source": [
    "GSEA_net_meta_sorted_rank"
   ]
  },
  {
   "cell_type": "code",
   "execution_count": null,
   "metadata": {},
   "outputs": [],
   "source": [
    "GSEA_net_meta_sorted_rank.reset_index(inplace=True,drop=True)"
   ]
  },
  {
   "cell_type": "code",
   "execution_count": null,
   "metadata": {},
   "outputs": [],
   "source": [
    "GSEA_net_meta_sorted_rank"
   ]
  },
  {
   "cell_type": "code",
   "execution_count": null,
   "metadata": {},
   "outputs": [],
   "source": [
    "GSEA_net_meta_filt_results = GSEA_net_meta_sorted_rank.copy()"
   ]
  },
  {
   "cell_type": "markdown",
   "metadata": {},
   "source": [
    "Next, with GSEA_net_500, make sure the data is loaded in correctly."
   ]
  },
  {
   "cell_type": "code",
   "execution_count": null,
   "metadata": {},
   "outputs": [],
   "source": [
    "GSEA_net_500"
   ]
  },
  {
   "cell_type": "markdown",
   "metadata": {},
   "source": [
    "Remove non-significant results"
   ]
  },
  {
   "cell_type": "code",
   "execution_count": null,
   "metadata": {},
   "outputs": [],
   "source": [
    "GSEA_net_500_sig = GSEA_net_500[GSEA_net_500[\"Species\"] == 'Homo sapiens']\n",
    "GSEA_net_500_sig = GSEA_net_500_sig[GSEA_net_500_sig[\"P value\"] <= 0.05]"
   ]
  },
  {
   "cell_type": "markdown",
   "metadata": {},
   "source": [
    "Remove entries with z score equal to zero as they are problematic"
   ]
  },
  {
   "cell_type": "code",
   "execution_count": null,
   "metadata": {},
   "outputs": [],
   "source": [
    "GSEA_net_500_sig_z0 = GSEA_net_500_sig[GSEA_net_500_sig[\"Z score\"] != 0]\n",
    "GSEA_net_500_sig_z0 = GSEA_net_500_sig[GSEA_net_500_sig[\"Z score\"] < -2]"
   ]
  },
  {
   "cell_type": "code",
   "execution_count": null,
   "metadata": {},
   "outputs": [],
   "source": [
    "GSEA_net_500_sig_z0"
   ]
  },
  {
   "cell_type": "markdown",
   "metadata": {},
   "source": [
    "Sort the df according to drug and rank"
   ]
  },
  {
   "cell_type": "code",
   "execution_count": null,
   "metadata": {},
   "outputs": [],
   "source": [
    "GSEA_net_500_sig_z0_sorted_drug = GSEA_net_500_sig_z0.sort_values(['Drug', 'P value', 'Z score'], axis=0, ascending=True, inplace=False)"
   ]
  },
  {
   "cell_type": "code",
   "execution_count": null,
   "metadata": {},
   "outputs": [],
   "source": [
    "GSEA_net_500_sig_z0_sorted_drug"
   ]
  },
  {
   "cell_type": "markdown",
   "metadata": {},
   "source": [
    "View the top result, Etoposide, to make sure the df is sorted correctly, and the most significant result is at the top of the 'Etoposide's list in the df"
   ]
  },
  {
   "cell_type": "code",
   "execution_count": null,
   "metadata": {},
   "outputs": [],
   "source": [
    "GSEA_net_500_sig_z0_sorted_drug[GSEA_net_500_sig_z0_sorted_drug['Drug'] == 'Etoposide']"
   ]
  },
  {
   "cell_type": "markdown",
   "metadata": {},
   "source": [
    "Remove the duplicates of drugs, keeping only the first occurrence as it as the highest pvalue"
   ]
  },
  {
   "cell_type": "code",
   "execution_count": null,
   "metadata": {},
   "outputs": [],
   "source": [
    "GSEA_net_500_sig_z0_sorted_drug.drop_duplicates(subset = [\"Drug\"], inplace=True)"
   ]
  },
  {
   "cell_type": "code",
   "execution_count": null,
   "metadata": {},
   "outputs": [],
   "source": [
    "GSEA_net_500_sig_z0_sorted_drug"
   ]
  },
  {
   "cell_type": "markdown",
   "metadata": {},
   "source": [
    "Sort the df according to Rank."
   ]
  },
  {
   "cell_type": "code",
   "execution_count": null,
   "metadata": {},
   "outputs": [],
   "source": [
    "GSEA_net_500_sig_z0_sorted_sorted_rank = GSEA_net_500_sig_z0_sorted_drug.sort_values(['Z score', 'Z score rank', 'P value'], axis=0, ascending=True, inplace=False)"
   ]
  },
  {
   "cell_type": "code",
   "execution_count": null,
   "metadata": {},
   "outputs": [],
   "source": [
    "GSEA_net_500_sig_z0_sorted_sorted_rank"
   ]
  },
  {
   "cell_type": "code",
   "execution_count": null,
   "metadata": {},
   "outputs": [],
   "source": [
    "GSEA_net_500_sig_z0_sorted_sorted_rank.reset_index(inplace=True,drop=True)"
   ]
  },
  {
   "cell_type": "code",
   "execution_count": null,
   "metadata": {},
   "outputs": [],
   "source": [
    "GSEA_net_500_filt_results = GSEA_net_500_sig_z0_sorted_sorted_rank.copy()"
   ]
  },
  {
   "cell_type": "code",
   "execution_count": null,
   "metadata": {},
   "outputs": [],
   "source": [
    "GSEA_net_500_filt_results"
   ]
  },
  {
   "cell_type": "markdown",
   "metadata": {},
   "source": [
    "Finally, for GSEA, filter overlap"
   ]
  },
  {
   "cell_type": "code",
   "execution_count": null,
   "metadata": {},
   "outputs": [],
   "source": [
    "GSEA_overlap"
   ]
  },
  {
   "cell_type": "code",
   "execution_count": null,
   "metadata": {},
   "outputs": [],
   "source": [
    "GSEA_overlap_sig = GSEA_overlap[GSEA_overlap[\"P value\"] <= 0.05]"
   ]
  },
  {
   "cell_type": "code",
   "execution_count": null,
   "metadata": {},
   "outputs": [],
   "source": [
    "GSEA_overlap_sig = GSEA_overlap_sig[GSEA_overlap_sig['Within Species Rank'] >= 0]"
   ]
  },
  {
   "cell_type": "code",
   "execution_count": null,
   "metadata": {},
   "outputs": [],
   "source": [
    "\n",
    "GSEA_overlap_sig_hs = GSEA_overlap_sig[GSEA_overlap_sig['Species'] == 'Homo sapiens']"
   ]
  },
  {
   "cell_type": "code",
   "execution_count": null,
   "metadata": {},
   "outputs": [],
   "source": [
    "GSEA_overlap_sig_hs"
   ]
  },
  {
   "cell_type": "markdown",
   "metadata": {},
   "source": [
    "Filter the results to select only those with a Jaccard score above the mean."
   ]
  },
  {
   "cell_type": "code",
   "execution_count": null,
   "metadata": {},
   "outputs": [],
   "source": [
    "GSEA_overlap_sig_hs['Jaccard Score'].mean()"
   ]
  },
  {
   "cell_type": "code",
   "execution_count": null,
   "metadata": {},
   "outputs": [],
   "source": [
    "GSEA_overlap_sig_hs_js = GSEA_overlap_sig_hs[GSEA_overlap_sig_hs['Jaccard Score'] > 4.738798e-18]"
   ]
  },
  {
   "cell_type": "code",
   "execution_count": null,
   "metadata": {},
   "outputs": [],
   "source": [
    "GSEA_overlap_sig_hs_js"
   ]
  },
  {
   "cell_type": "code",
   "execution_count": null,
   "metadata": {},
   "outputs": [],
   "source": [
    "GSEA_overlap_sig_hs_sorted_drug = GSEA_overlap_sig_hs_js.sort_values(['Drug', 'Within Species Rank', 'Jaccard Score', 'P value'], axis=0, ascending=False, inplace=False)"
   ]
  },
  {
   "cell_type": "code",
   "execution_count": null,
   "metadata": {},
   "outputs": [],
   "source": [
    "GSEA_overlap_sig_hs_sorted_drug"
   ]
  },
  {
   "cell_type": "code",
   "execution_count": null,
   "metadata": {},
   "outputs": [],
   "source": [
    "GSEA_overlap_sig_hs_sorted_drug.drop_duplicates(subset = [\"Drug\"], inplace=True)"
   ]
  },
  {
   "cell_type": "code",
   "execution_count": null,
   "metadata": {},
   "outputs": [],
   "source": [
    "GSEA_overlap_sig_hs_sorted_rank = GSEA_overlap_sig_hs_sorted_drug.sort_values(['Within Species Rank', 'Jaccard Score', 'P value'], axis=0, ascending=False, inplace=False)"
   ]
  },
  {
   "cell_type": "code",
   "execution_count": null,
   "metadata": {},
   "outputs": [],
   "source": [
    "GSEA_overlap_sig_hs_sorted_rank"
   ]
  },
  {
   "cell_type": "code",
   "execution_count": null,
   "metadata": {},
   "outputs": [],
   "source": [
    "GSEA_overlap_sig_hs_sorted_rank.reset_index(inplace=True,drop=True)"
   ]
  },
  {
   "cell_type": "code",
   "execution_count": null,
   "metadata": {},
   "outputs": [],
   "source": [
    "GSEA_overlap_sig_hs_sorted_rank"
   ]
  },
  {
   "cell_type": "code",
   "execution_count": null,
   "metadata": {},
   "outputs": [],
   "source": [
    "GSEA_overlap_filt_results = GSEA_overlap_sig_hs_sorted_rank.copy()"
   ]
  },
  {
   "cell_type": "markdown",
   "metadata": {},
   "source": [
    "Filtered result dfs used in the subsequent steps:\n",
    "- GSEA_net_meta_filt_results\n",
    "- GSEA_net_500_filt_results\n",
    "- GSEA_overlap_filt_results"
   ]
  },
  {
   "cell_type": "code",
   "execution_count": null,
   "metadata": {},
   "outputs": [],
   "source": [
    "GSEA_net_meta_filt_results.head()"
   ]
  },
  {
   "cell_type": "code",
   "execution_count": null,
   "metadata": {},
   "outputs": [],
   "source": [
    "GSEA_net_500_filt_results.head()"
   ]
  },
  {
   "cell_type": "code",
   "execution_count": null,
   "metadata": {},
   "outputs": [],
   "source": [
    "GSEA_overlap_filt_results.head()"
   ]
  },
  {
   "cell_type": "code",
   "execution_count": null,
   "metadata": {},
   "outputs": [],
   "source": [
    "GSEA_overlap_results = GSEA_overlap_filt_results.copy()\n",
    "GSEA_net_500_results = GSEA_net_500_filt_results[['Drug', 'Species', 'Tissue']].copy()\n",
    "GSEA_net_meta_results = GSEA_net_meta_filt_results[['Drug',\t'Species', 'Tissue', 'Dataset']].copy()"
   ]
  },
  {
   "cell_type": "code",
   "execution_count": null,
   "metadata": {},
   "outputs": [],
   "source": [
    "# GSEA_overlap_results = GSEA_overlap_results.add_suffix('_frm_G_ovrlp')\n",
    "\n",
    "GSEA_net_500_results = GSEA_net_500_results.add_suffix('_frm_G_nt500')\n",
    "GSEA_net_meta_results = GSEA_net_meta_results.add_suffix('_frm_G_ntmeta')"
   ]
  },
  {
   "cell_type": "code",
   "execution_count": null,
   "metadata": {},
   "outputs": [],
   "source": [
    "GSEA_overlap_results.head()"
   ]
  },
  {
   "cell_type": "code",
   "execution_count": null,
   "metadata": {},
   "outputs": [],
   "source": [
    "GSEA_net_500_results.head()"
   ]
  },
  {
   "cell_type": "code",
   "execution_count": null,
   "metadata": {},
   "outputs": [],
   "source": [
    "GSEA_net_meta_results.head()"
   ]
  },
  {
   "cell_type": "code",
   "execution_count": null,
   "metadata": {},
   "outputs": [],
   "source": [
    "GSEA_common_network_drugs = pd.merge(left=GSEA_net_500_results, right=GSEA_net_meta_results, how='inner', left_on='Drug_frm_G_nt500', right_on='Drug_frm_G_ntmeta')"
   ]
  },
  {
   "cell_type": "code",
   "execution_count": null,
   "metadata": {},
   "outputs": [],
   "source": [
    "GSEA_common_network_drugs"
   ]
  },
  {
   "cell_type": "code",
   "execution_count": null,
   "metadata": {},
   "outputs": [],
   "source": [
    "GSEA_common_drugs_temp = pd.merge(left=GSEA_overlap_results, right=GSEA_common_network_drugs, how='inner', left_on='Drug', right_on='Drug_frm_G_nt500')"
   ]
  },
  {
   "cell_type": "code",
   "execution_count": null,
   "metadata": {},
   "outputs": [],
   "source": [
    "GSEA_common_drugs = GSEA_common_drugs_temp[['Database', 'Method', 'Drug', 'Species', 'Tissue or Cell Line', 'Study', 'Dose', 'Time', 'Jaccard Score', 'Odds Ratio', 'P value', 'Within Species Rank', 'Overlap']].copy()"
   ]
  },
  {
   "cell_type": "code",
   "execution_count": null,
   "metadata": {},
   "outputs": [],
   "source": [
    "GSEA_common_drugs"
   ]
  },
  {
   "cell_type": "markdown",
   "metadata": {},
   "source": [
    "Now we will move onto the wkda arm."
   ]
  },
  {
   "cell_type": "markdown",
   "metadata": {},
   "source": [
    "Staring with wkda_net_meta, make sure the data is loaded in correctly."
   ]
  },
  {
   "cell_type": "code",
   "execution_count": null,
   "metadata": {},
   "outputs": [],
   "source": [
    "wkda_net_meta"
   ]
  },
  {
   "cell_type": "markdown",
   "metadata": {},
   "source": [
    "As we are only interested in human data, first check for non-human data and remove if needed."
   ]
  },
  {
   "cell_type": "code",
   "execution_count": null,
   "metadata": {},
   "outputs": [],
   "source": [
    "wkda_net_meta[wkda_net_meta[\"Species\"] != \"Homo sapiens\"]"
   ]
  },
  {
   "cell_type": "markdown",
   "metadata": {},
   "source": [
    "Sort the df according to drug and rank"
   ]
  },
  {
   "cell_type": "code",
   "execution_count": null,
   "metadata": {},
   "outputs": [],
   "source": [
    "wkda_net_meta_sorted_drug = wkda_net_meta.sort_values(['Drug', 'Rank'], axis=0, ascending=False, inplace=False)"
   ]
  },
  {
   "cell_type": "code",
   "execution_count": null,
   "metadata": {},
   "outputs": [],
   "source": [
    "wkda_net_meta_sorted_drug"
   ]
  },
  {
   "cell_type": "markdown",
   "metadata": {},
   "source": [
    "Remove the duplicates of drugs, keeping only the first occurrence as it as the highest p-value"
   ]
  },
  {
   "cell_type": "code",
   "execution_count": null,
   "metadata": {},
   "outputs": [],
   "source": [
    "wkda_net_meta_sorted_drug.drop_duplicates(subset = [\"Drug\"], inplace=True)"
   ]
  },
  {
   "cell_type": "code",
   "execution_count": null,
   "metadata": {},
   "outputs": [],
   "source": [
    "wkda_net_meta_sorted_drug"
   ]
  },
  {
   "cell_type": "markdown",
   "metadata": {},
   "source": [
    "Sort the df according to Rank."
   ]
  },
  {
   "cell_type": "code",
   "execution_count": null,
   "metadata": {},
   "outputs": [],
   "source": [
    "wkda_net_meta_sorted_rank = wkda_net_meta_sorted_drug.sort_values(['Rank'], axis=0, ascending=False, inplace=False)"
   ]
  },
  {
   "cell_type": "code",
   "execution_count": null,
   "metadata": {},
   "outputs": [],
   "source": [
    "wkda_net_meta_sorted_rank"
   ]
  },
  {
   "cell_type": "code",
   "execution_count": null,
   "metadata": {},
   "outputs": [],
   "source": [
    "wkda_net_meta_sorted_rank.reset_index(inplace=True,drop=True)"
   ]
  },
  {
   "cell_type": "code",
   "execution_count": null,
   "metadata": {},
   "outputs": [],
   "source": [
    "wkda_net_meta_sorted_rank"
   ]
  },
  {
   "cell_type": "code",
   "execution_count": null,
   "metadata": {},
   "outputs": [],
   "source": [
    "wkda_net_meta_filt_results = wkda_net_meta_sorted_rank.copy()"
   ]
  },
  {
   "cell_type": "markdown",
   "metadata": {},
   "source": [
    "Next, with wkda_net_500, make sure the data is loaded in correctly."
   ]
  },
  {
   "cell_type": "code",
   "execution_count": null,
   "metadata": {},
   "outputs": [],
   "source": [
    "wkda_net_500"
   ]
  },
  {
   "cell_type": "markdown",
   "metadata": {},
   "source": [
    "Remove non-significant results"
   ]
  },
  {
   "cell_type": "code",
   "execution_count": null,
   "metadata": {},
   "outputs": [],
   "source": [
    "wkda_net_500_sig = wkda_net_500[wkda_net_500[\"Species\"] == 'Homo sapiens']\n",
    "wkda_net_500_sig = wkda_net_500_sig[wkda_net_500_sig[\"P value\"] <= 0.05]"
   ]
  },
  {
   "cell_type": "markdown",
   "metadata": {},
   "source": [
    "Remove entries with z score equal to zero as they are problematic"
   ]
  },
  {
   "cell_type": "code",
   "execution_count": null,
   "metadata": {},
   "outputs": [],
   "source": [
    "wkda_net_500_sig_z0 = wkda_net_500_sig[wkda_net_500_sig[\"Z score\"] != 0]\n",
    "wkda_net_500_sig_z0 = wkda_net_500_sig[wkda_net_500_sig[\"Z score\"] < -2]"
   ]
  },
  {
   "cell_type": "code",
   "execution_count": null,
   "metadata": {},
   "outputs": [],
   "source": [
    "wkda_net_500_sig_z0"
   ]
  },
  {
   "cell_type": "markdown",
   "metadata": {},
   "source": [
    "Sort the df according to drug and rank"
   ]
  },
  {
   "cell_type": "code",
   "execution_count": null,
   "metadata": {},
   "outputs": [],
   "source": [
    "wkda_net_500_sig_z0_sorted_drug = wkda_net_500_sig_z0.sort_values(['Drug', 'P value', 'Z score'], axis=0, ascending=True, inplace=False)"
   ]
  },
  {
   "cell_type": "code",
   "execution_count": null,
   "metadata": {},
   "outputs": [],
   "source": [
    "wkda_net_500_sig_z0_sorted_drug"
   ]
  },
  {
   "cell_type": "markdown",
   "metadata": {},
   "source": [
    "View the top result, Etoposide, to make sure the df is sorted correctly, and the most significant result is at the top of the 'Etoposide's list in the df"
   ]
  },
  {
   "cell_type": "code",
   "execution_count": null,
   "metadata": {},
   "outputs": [],
   "source": [
    "wkda_net_500_sig_z0_sorted_drug[wkda_net_500_sig_z0_sorted_drug['Drug'] == 'Etoposide']"
   ]
  },
  {
   "cell_type": "markdown",
   "metadata": {},
   "source": [
    "Remove the duplicates of drugs, keeping only the first occurrence as it as the highest pvalue"
   ]
  },
  {
   "cell_type": "code",
   "execution_count": null,
   "metadata": {},
   "outputs": [],
   "source": [
    "wkda_net_500_sig_z0_sorted_drug.drop_duplicates(subset = [\"Drug\"], inplace=True)"
   ]
  },
  {
   "cell_type": "code",
   "execution_count": null,
   "metadata": {},
   "outputs": [],
   "source": [
    "wkda_net_500_sig_z0_sorted_drug"
   ]
  },
  {
   "cell_type": "markdown",
   "metadata": {},
   "source": [
    "Sort the df according to Rank."
   ]
  },
  {
   "cell_type": "code",
   "execution_count": null,
   "metadata": {},
   "outputs": [],
   "source": [
    "wkda_net_500_sig_z0_sorted_sorted_rank = wkda_net_500_sig_z0_sorted_drug.sort_values(['Z score', 'Z score rank', 'P value'], axis=0, ascending=True, inplace=False)"
   ]
  },
  {
   "cell_type": "code",
   "execution_count": null,
   "metadata": {},
   "outputs": [],
   "source": [
    "wkda_net_500_sig_z0_sorted_sorted_rank"
   ]
  },
  {
   "cell_type": "code",
   "execution_count": null,
   "metadata": {},
   "outputs": [],
   "source": [
    "wkda_net_500_sig_z0_sorted_sorted_rank.reset_index(inplace=True,drop=True)"
   ]
  },
  {
   "cell_type": "code",
   "execution_count": null,
   "metadata": {},
   "outputs": [],
   "source": [
    "wkda_net_500_filt_results = wkda_net_500_sig_z0_sorted_sorted_rank.copy()"
   ]
  },
  {
   "cell_type": "code",
   "execution_count": null,
   "metadata": {},
   "outputs": [],
   "source": [
    "wkda_net_500_filt_results"
   ]
  },
  {
   "cell_type": "markdown",
   "metadata": {},
   "source": [
    "Finally, for wkda, filter overlap"
   ]
  },
  {
   "cell_type": "code",
   "execution_count": null,
   "metadata": {},
   "outputs": [],
   "source": [
    "wkda_overlap"
   ]
  },
  {
   "cell_type": "code",
   "execution_count": null,
   "metadata": {},
   "outputs": [],
   "source": [
    "wkda_overlap_sig = wkda_overlap[wkda_overlap[\"P value\"] <= 0.05]"
   ]
  },
  {
   "cell_type": "code",
   "execution_count": null,
   "metadata": {},
   "outputs": [],
   "source": [
    "wkda_overlap_sig = wkda_overlap_sig[wkda_overlap_sig['Within Species Rank'] >= 0]"
   ]
  },
  {
   "cell_type": "code",
   "execution_count": null,
   "metadata": {},
   "outputs": [],
   "source": [
    "\n",
    "wkda_overlap_sig_hs = wkda_overlap_sig[wkda_overlap_sig['Species'] == 'Homo sapiens']"
   ]
  },
  {
   "cell_type": "code",
   "execution_count": null,
   "metadata": {},
   "outputs": [],
   "source": [
    "wkda_overlap_sig_hs"
   ]
  },
  {
   "cell_type": "markdown",
   "metadata": {},
   "source": [
    "Filter the results to select only those with a Jaccard score above the mean."
   ]
  },
  {
   "cell_type": "code",
   "execution_count": null,
   "metadata": {},
   "outputs": [],
   "source": [
    "wkda_overlap_sig_hs['Jaccard Score'].mean()"
   ]
  },
  {
   "cell_type": "code",
   "execution_count": null,
   "metadata": {},
   "outputs": [],
   "source": [
    "wkda_overlap_sig_hs_js = wkda_overlap_sig_hs[wkda_overlap_sig_hs['Jaccard Score'] > 0.015192708293416539]"
   ]
  },
  {
   "cell_type": "code",
   "execution_count": null,
   "metadata": {},
   "outputs": [],
   "source": [
    "wkda_overlap_sig_hs_js"
   ]
  },
  {
   "cell_type": "code",
   "execution_count": null,
   "metadata": {},
   "outputs": [],
   "source": [
    "wkda_overlap_sig_hs_sorted_drug = wkda_overlap_sig_hs_js.sort_values(['Drug', 'Within Species Rank', 'Jaccard Score', 'P value'], axis=0, ascending=False, inplace=False)"
   ]
  },
  {
   "cell_type": "code",
   "execution_count": null,
   "metadata": {},
   "outputs": [],
   "source": [
    "wkda_overlap_sig_hs_sorted_drug"
   ]
  },
  {
   "cell_type": "code",
   "execution_count": null,
   "metadata": {},
   "outputs": [],
   "source": [
    "wkda_overlap_sig_hs_sorted_drug.drop_duplicates(subset = [\"Drug\"], inplace=True)"
   ]
  },
  {
   "cell_type": "code",
   "execution_count": null,
   "metadata": {},
   "outputs": [],
   "source": [
    "wkda_overlap_sig_hs_sorted_rank = wkda_overlap_sig_hs_sorted_drug.sort_values(['Within Species Rank', 'Jaccard Score', 'P value'], axis=0, ascending=False, inplace=False)"
   ]
  },
  {
   "cell_type": "code",
   "execution_count": null,
   "metadata": {},
   "outputs": [],
   "source": [
    "wkda_overlap_sig_hs_sorted_rank"
   ]
  },
  {
   "cell_type": "code",
   "execution_count": null,
   "metadata": {},
   "outputs": [],
   "source": [
    "wkda_overlap_sig_hs_sorted_rank.reset_index(inplace=True,drop=True)"
   ]
  },
  {
   "cell_type": "code",
   "execution_count": null,
   "metadata": {},
   "outputs": [],
   "source": [
    "wkda_overlap_sig_hs_sorted_rank"
   ]
  },
  {
   "cell_type": "code",
   "execution_count": null,
   "metadata": {},
   "outputs": [],
   "source": [
    "wkda_overlap_filt_results = wkda_overlap_sig_hs_sorted_rank.copy()"
   ]
  },
  {
   "cell_type": "markdown",
   "metadata": {},
   "source": [
    "testing start"
   ]
  },
  {
   "cell_type": "code",
   "execution_count": null,
   "metadata": {},
   "outputs": [],
   "source": [
    "GSEA_overlap_filt_results"
   ]
  },
  {
   "cell_type": "code",
   "execution_count": null,
   "metadata": {},
   "outputs": [],
   "source": [
    "wkda_overlap_filt_results"
   ]
  },
  {
   "cell_type": "code",
   "execution_count": null,
   "metadata": {},
   "outputs": [],
   "source": [
    "overlapcommon = pd.merge(left=GSEA_overlap_filt_results, right=wkda_overlap_filt_results, how='inner', left_on='Drug', right_on='Drug')"
   ]
  },
  {
   "cell_type": "code",
   "execution_count": null,
   "metadata": {},
   "outputs": [],
   "source": [
    "overlapcommon"
   ]
  },
  {
   "cell_type": "markdown",
   "metadata": {},
   "source": [
    "testing end"
   ]
  },
  {
   "cell_type": "markdown",
   "metadata": {},
   "source": [
    "Filtered result dfs used in the subsequent steps:\n",
    "- wkda_net_meta_filt_results\n",
    "- wkda_net_500_filt_results\n",
    "- wkda_overlap_filt_results"
   ]
  },
  {
   "cell_type": "code",
   "execution_count": null,
   "metadata": {},
   "outputs": [],
   "source": [
    "wkda_net_meta_filt_results.head()"
   ]
  },
  {
   "cell_type": "code",
   "execution_count": null,
   "metadata": {},
   "outputs": [],
   "source": [
    "wkda_net_500_filt_results.head()"
   ]
  },
  {
   "cell_type": "code",
   "execution_count": null,
   "metadata": {},
   "outputs": [],
   "source": [
    "wkda_overlap_filt_results.head()"
   ]
  },
  {
   "cell_type": "code",
   "execution_count": null,
   "metadata": {},
   "outputs": [],
   "source": [
    "wkda_overlap_results = wkda_overlap_filt_results.copy()\n",
    "wkda_net_500_results = wkda_net_500_filt_results[['Drug', 'Species', 'Tissue']].copy()\n",
    "wkda_net_meta_results = wkda_net_meta_filt_results[['Drug',\t'Species', 'Tissue', 'Dataset']].copy()"
   ]
  },
  {
   "cell_type": "code",
   "execution_count": null,
   "metadata": {},
   "outputs": [],
   "source": [
    "# wkda_overlap_results = wkda_overlap_results.add_suffix('_frm_w_ovrlp')\n",
    "\n",
    "wkda_net_500_results = wkda_net_500_results.add_suffix('_frm_w_nt500')\n",
    "wkda_net_meta_results = wkda_net_meta_results.add_suffix('_frm_w_ntmeta')"
   ]
  },
  {
   "cell_type": "code",
   "execution_count": null,
   "metadata": {},
   "outputs": [],
   "source": [
    "wkda_overlap_results.head()"
   ]
  },
  {
   "cell_type": "code",
   "execution_count": null,
   "metadata": {},
   "outputs": [],
   "source": [
    "wkda_net_500_results.head()"
   ]
  },
  {
   "cell_type": "code",
   "execution_count": null,
   "metadata": {},
   "outputs": [],
   "source": [
    "wkda_net_meta_results.head()"
   ]
  },
  {
   "cell_type": "code",
   "execution_count": null,
   "metadata": {},
   "outputs": [],
   "source": [
    "wkda_common_network_drugs = pd.merge(left=wkda_net_500_results, right=wkda_net_meta_results, how='inner', left_on='Drug_frm_w_nt500', right_on='Drug_frm_w_ntmeta')"
   ]
  },
  {
   "cell_type": "code",
   "execution_count": null,
   "metadata": {},
   "outputs": [],
   "source": [
    "wkda_common_network_drugs"
   ]
  },
  {
   "cell_type": "code",
   "execution_count": null,
   "metadata": {},
   "outputs": [],
   "source": [
    "wkda_common_drugs_temp = pd.merge(left=wkda_overlap_results, right=wkda_common_network_drugs, how='inner', left_on='Drug', right_on='Drug_frm_w_nt500')"
   ]
  },
  {
   "cell_type": "code",
   "execution_count": null,
   "metadata": {},
   "outputs": [],
   "source": [
    "wkda_common_drugs = wkda_common_drugs_temp[['Database', 'Method', 'Drug', 'Species', 'Tissue or Cell Line', 'Study', 'Dose', 'Time', 'Jaccard Score', 'Odds Ratio', 'P value', 'Within Species Rank', 'Overlap']].copy()"
   ]
  },
  {
   "cell_type": "markdown",
   "metadata": {},
   "source": []
  },
  {
   "cell_type": "markdown",
   "metadata": {},
   "source": [
    "Now that the drugs from each arm of the analysis have been extracted, the results from both arms will be compared to extract only drugs common to both arms"
   ]
  },
  {
   "cell_type": "code",
   "execution_count": null,
   "metadata": {},
   "outputs": [],
   "source": [
    "GSEA_common_drugs"
   ]
  },
  {
   "cell_type": "code",
   "execution_count": null,
   "metadata": {},
   "outputs": [],
   "source": [
    "wkda_common_drugs"
   ]
  },
  {
   "cell_type": "code",
   "execution_count": null,
   "metadata": {},
   "outputs": [],
   "source": [
    "GSEA_common_drugs = GSEA_common_drugs.add_suffix('_GSEA')"
   ]
  },
  {
   "cell_type": "code",
   "execution_count": null,
   "metadata": {},
   "outputs": [],
   "source": [
    "wkda_common_drugs.head()"
   ]
  },
  {
   "cell_type": "code",
   "execution_count": null,
   "metadata": {},
   "outputs": [],
   "source": [
    "common_drugs_temp = pd.merge(left=wkda_common_drugs, right=GSEA_common_drugs, how='inner', left_on='Drug', right_on='Drug_GSEA')"
   ]
  },
  {
   "cell_type": "code",
   "execution_count": null,
   "metadata": {},
   "outputs": [],
   "source": [
    "common_drugs_temp['Average Rank'] = common_drugs_temp[['Within Species Rank', 'Within Species Rank_GSEA']].mean(axis=1)"
   ]
  },
  {
   "cell_type": "code",
   "execution_count": null,
   "metadata": {},
   "outputs": [],
   "source": [
    "common_drugs_temp"
   ]
  },
  {
   "cell_type": "code",
   "execution_count": null,
   "metadata": {},
   "outputs": [],
   "source": [
    "common_drugs = common_drugs_temp[['Database', 'Method', 'Drug', 'Average Rank', 'Species', 'Tissue or Cell Line', 'Study', 'Dose', 'Time', 'Jaccard Score', 'Odds Ratio', 'P value']].copy()"
   ]
  },
  {
   "cell_type": "code",
   "execution_count": null,
   "metadata": {},
   "outputs": [],
   "source": [
    "common_drugs"
   ]
  },
  {
   "cell_type": "code",
   "execution_count": null,
   "metadata": {},
   "outputs": [],
   "source": [
    "Results = common_drugs[['Drug','P value', 'Jaccard Score', 'Odds Ratio', 'Average Rank', 'Method', 'Dose', 'Time']].copy()"
   ]
  },
  {
   "cell_type": "code",
   "execution_count": null,
   "metadata": {},
   "outputs": [],
   "source": [
    "Results.sort_values(['P value', ], axis=0, ascending=True, inplace=True)\n",
    "Results.reset_index(drop=True, inplace=True)"
   ]
  },
  {
   "cell_type": "code",
   "execution_count": null,
   "metadata": {},
   "outputs": [],
   "source": [
    "Results"
   ]
  },
  {
   "cell_type": "code",
   "execution_count": null,
   "metadata": {},
   "outputs": [],
   "source": [
    "out_dir = \"/Users/anb/Documents/CMEB-Lab/ESCC-Drug-Repositioning/DR-escc-data/output/GSE23400/1st-dual-arm-analysis/analysis-both-arms\"\n",
    "\n",
    "Results.to_csv(os.path.join(out_dir, \"Common_Drugs.tsv\"), sep='\\t', index=False)"
   ]
  }
 ],
 "metadata": {
  "interpreter": {
   "hash": "31f2aee4e71d21fbe5cf8b01ff0e069b9275f58929596ceb00d14d90e3e16cd6"
  },
  "kernelspec": {
   "display_name": "Python 3.8.9 64-bit",
   "language": "python",
   "name": "python3"
  },
  "language_info": {
   "codemirror_mode": {
    "name": "ipython",
    "version": 3
   },
   "file_extension": ".py",
   "mimetype": "text/x-python",
   "name": "python",
   "nbconvert_exporter": "python",
   "pygments_lexer": "ipython3",
   "version": "3.8.9"
  },
  "orig_nbformat": 4
 },
 "nbformat": 4,
 "nbformat_minor": 2
}
