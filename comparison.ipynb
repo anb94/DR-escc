{
 "cells": [
  {
   "cell_type": "code",
   "execution_count": null,
   "metadata": {},
   "outputs": [],
   "source": [
    "\n",
    "import pandas as pd\n",
    "import os"
   ]
  },
  {
   "cell_type": "code",
   "execution_count": null,
   "metadata": {},
   "outputs": [],
   "source": [
    "dataset1 = \"/Users/anb/Documents/CMEB-Lab/DR-escc-data/output/GSE44021/paired-limma/drug-repositioning/initial-analysis/multitissue-net/analysis1-drugs.txt\"\n",
    "\n",
    "dataset1_df = pd.read_csv(\n",
    "    dataset1, comment=\"#\", header=0, sep='\\t', low_memory=False\n",
    ")"
   ]
  },
  {
   "cell_type": "code",
   "execution_count": null,
   "metadata": {},
   "outputs": [],
   "source": [
    "dataset1_df[['dataset']] = 1"
   ]
  },
  {
   "cell_type": "code",
   "execution_count": null,
   "metadata": {},
   "outputs": [],
   "source": [
    "dataset1_df"
   ]
  },
  {
   "cell_type": "code",
   "execution_count": null,
   "metadata": {},
   "outputs": [],
   "source": [
    "df1_gi = dataset1_df[dataset1_df['Tissue'] == 'gastrointestinal system']\n",
    "df1_gi.reset_index(inplace=True,drop=True)\n",
    "df1_gi"
   ]
  },
  {
   "cell_type": "code",
   "execution_count": null,
   "metadata": {},
   "outputs": [],
   "source": [
    "df1_sorted = dataset1_df.sort_values(['Drug', 'Rank'], axis=0, ascending=False, inplace=False)\n"
   ]
  },
  {
   "cell_type": "code",
   "execution_count": null,
   "metadata": {},
   "outputs": [],
   "source": [
    "df1_sorted.drop_duplicates(subset = [\"Drug\"], inplace=True)"
   ]
  },
  {
   "cell_type": "code",
   "execution_count": null,
   "metadata": {},
   "outputs": [],
   "source": [
    "df1_sorted.sort_values(['Rank'], axis=0, ascending=False, inplace=True)"
   ]
  },
  {
   "cell_type": "code",
   "execution_count": null,
   "metadata": {},
   "outputs": [],
   "source": [
    "df1_sorted"
   ]
  },
  {
   "cell_type": "code",
   "execution_count": null,
   "metadata": {},
   "outputs": [],
   "source": [
    "df1[df1.Drug.str.match('Imatinib')]"
   ]
  },
  {
   "cell_type": "code",
   "execution_count": null,
   "metadata": {},
   "outputs": [],
   "source": []
  },
  {
   "cell_type": "code",
   "execution_count": null,
   "metadata": {},
   "outputs": [],
   "source": []
  },
  {
   "cell_type": "code",
   "execution_count": null,
   "metadata": {},
   "outputs": [],
   "source": [
    "dataset2 = \"/Users/anb/Documents/CMEB-Lab/DR-escc-data/output/GSE44021/paired-limma/drug-repositioning/wkDA-first/vNShNagkG3_app2result copy.txt\"\n",
    "\n",
    "dataset2_df = pd.read_csv(\n",
    "    dataset2, comment=\"#\", header=0, sep='\\t', low_memory=False\n",
    ")"
   ]
  },
  {
   "cell_type": "code",
   "execution_count": null,
   "metadata": {},
   "outputs": [],
   "source": [
    "dataset2_df"
   ]
  },
  {
   "cell_type": "code",
   "execution_count": null,
   "metadata": {},
   "outputs": [],
   "source": [
    "df2_gi = dataset2_df[dataset2_df['Tissue'] == 'gastrointestinal system']\n",
    "df2_gi.reset_index(inplace=True,drop=True)\n",
    "df2_gi"
   ]
  },
  {
   "cell_type": "code",
   "execution_count": null,
   "metadata": {},
   "outputs": [],
   "source": [
    "df2_gi.shape"
   ]
  },
  {
   "cell_type": "code",
   "execution_count": null,
   "metadata": {},
   "outputs": [],
   "source": [
    "df2_sorted = dataset2_df.sort_values(['Drug', 'Rank'], axis=0, ascending=False, inplace=False)"
   ]
  },
  {
   "cell_type": "code",
   "execution_count": null,
   "metadata": {},
   "outputs": [],
   "source": [
    "df2_sorted.drop_duplicates(subset = [\"Drug\"], inplace=True)"
   ]
  },
  {
   "cell_type": "code",
   "execution_count": null,
   "metadata": {},
   "outputs": [],
   "source": [
    "df2_sorted.sort_values(['Rank'], axis=0, ascending=False, inplace=True)"
   ]
  },
  {
   "cell_type": "code",
   "execution_count": null,
   "metadata": {},
   "outputs": [],
   "source": [
    "datasets = pd.DataFrame()"
   ]
  },
  {
   "cell_type": "code",
   "execution_count": null,
   "metadata": {},
   "outputs": [],
   "source": [
    "datasets_test = pd.merge(left=df1_sorted[['Drug', 'Species', 'Tissue', 'P-value', 'Rank']], right=df2_sorted[['Drug', 'Species', 'Tissue', 'Dataset', 'Pvalue', 'Rank']], how='inner', left_on='Drug', right_on='Drug')\n",
    "gi_datasets = pd.merge(left=df1_gi, right=df2_gi, how='inner', left_on='Drug', right_on='Drug')"
   ]
  },
  {
   "cell_type": "code",
   "execution_count": null,
   "metadata": {},
   "outputs": [],
   "source": [
    "gi_datasets"
   ]
  },
  {
   "cell_type": "code",
   "execution_count": null,
   "metadata": {},
   "outputs": [],
   "source": [
    "gi_datasets_test = gi_datasets.rename(columns={'Species_x' : 'SpeciesDEG2Pharm', \"Tissue_x\" : \"Tissue_DEG2Pharm\", \"P-value\" : \"Pvalue_DEG2Pharm\", \"Rank_x\" : \"Rank_DEG2Pharm\", \"Species_y\" : \"Species_kda2Pharm\", \"Tissue_y\" : \"Tissue_kda2Pharm\", \"Pvalue\": \"Pvalue_kda2Pharm\", \"Rank_y\" : \"Rank_kda2Pharm\"})\n"
   ]
  },
  {
   "cell_type": "code",
   "execution_count": null,
   "metadata": {},
   "outputs": [],
   "source": [
    "gi_datasets_test"
   ]
  },
  {
   "cell_type": "code",
   "execution_count": null,
   "metadata": {},
   "outputs": [],
   "source": [
    "datasets_test"
   ]
  },
  {
   "cell_type": "code",
   "execution_count": null,
   "metadata": {},
   "outputs": [],
   "source": [
    "dtst = datasets_test.rename(columns={'Species_x' : 'SpeciesDEG2Pharm', \"Tissue_x\" : \"Tissue_DEG2Pharm\", \"P-value\" : \"Pvalue_DEG2Pharm\", \"Rank_x\" : \"Rank_DEG2Pharm\", \"Species_y\" : \"Species_kda2Pharm\", \"Tissue_y\" : \"Tissue_kda2Pharm\", \"Pvalue\": \"Pvalue_kda2Pharm\", \"Rank_y\" : \"Rank_kda2Pharm\"})\n"
   ]
  },
  {
   "cell_type": "code",
   "execution_count": null,
   "metadata": {},
   "outputs": [],
   "source": [
    "dtst"
   ]
  },
  {
   "cell_type": "code",
   "execution_count": null,
   "metadata": {},
   "outputs": [],
   "source": [
    "datasets = dtst"
   ]
  },
  {
   "cell_type": "code",
   "execution_count": null,
   "metadata": {},
   "outputs": [],
   "source": [
    "datasets"
   ]
  },
  {
   "cell_type": "code",
   "execution_count": null,
   "metadata": {},
   "outputs": [],
   "source": [
    "datasets.head(25)"
   ]
  },
  {
   "cell_type": "code",
   "execution_count": null,
   "metadata": {},
   "outputs": [],
   "source": [
    "datasets_alltissue = datasets\n"
   ]
  },
  {
   "cell_type": "code",
   "execution_count": null,
   "metadata": {},
   "outputs": [],
   "source": [
    "datasets_alltissue['avg_rank'] = datasets_alltissue[['Rank_DEG2Pharm', 'Rank_kda2Pharm']].mean(axis=1)"
   ]
  },
  {
   "cell_type": "code",
   "execution_count": null,
   "metadata": {},
   "outputs": [],
   "source": [
    "datasets_alltissue"
   ]
  },
  {
   "cell_type": "code",
   "execution_count": null,
   "metadata": {},
   "outputs": [],
   "source": [
    "out_dir = \"/Users/anb/Desktop/\"\n",
    "\n",
    "datasets.to_csv(os.path.join(out_dir, \"overlap.tsv\"), sep='\\t', index=False)\n",
    "datasets.Drug.to_csv(os.path.join(out_dir, \"overlap-drugs.tsv\"), sep='\\t', index=False)\n"
   ]
  },
  {
   "cell_type": "code",
   "execution_count": null,
   "metadata": {},
   "outputs": [],
   "source": [
    "pd.set_option('display.max_columns', 120)"
   ]
  },
  {
   "cell_type": "code",
   "execution_count": null,
   "metadata": {},
   "outputs": [],
   "source": []
  },
  {
   "cell_type": "code",
   "execution_count": null,
   "metadata": {},
   "outputs": [],
   "source": [
    "gopharm = \"/Users/anb/Documents/CMEB-Lab/DR-escc-data/output/GSE44021/paired-limma/drug-repositioning/go-wKDA/eHfDh2puiB-wkda-networkpharm/eHfDh2puiB_app2result.txt\"\n",
    "\n",
    "gopharm_df = pd.read_csv(\n",
    "    gopharm, comment=\"#\", header=0, sep='\\t', low_memory=False\n",
    ")"
   ]
  },
  {
   "cell_type": "code",
   "execution_count": null,
   "metadata": {},
   "outputs": [],
   "source": [
    "gopharm_df"
   ]
  },
  {
   "cell_type": "code",
   "execution_count": null,
   "metadata": {},
   "outputs": [],
   "source": [
    "gopharm_df"
   ]
  },
  {
   "cell_type": "markdown",
   "metadata": {},
   "source": [
    "Creating DF with top hit of each drug for the go then pharmomics"
   ]
  },
  {
   "cell_type": "code",
   "execution_count": null,
   "metadata": {},
   "outputs": [],
   "source": [
    "gopharm_df_sorted = gopharm_df.sort_values(['Drug', 'Rank'], axis=0, ascending=False, inplace=False)"
   ]
  },
  {
   "cell_type": "code",
   "execution_count": null,
   "metadata": {},
   "outputs": [],
   "source": [
    "gopharm_df_sorted"
   ]
  },
  {
   "cell_type": "code",
   "execution_count": null,
   "metadata": {},
   "outputs": [],
   "source": [
    "gopharm_df_sorted.drop_duplicates(subset = [\"Drug\"], inplace=True)"
   ]
  },
  {
   "cell_type": "code",
   "execution_count": null,
   "metadata": {},
   "outputs": [],
   "source": [
    "gopharm_df_sorted.sort_values(['Rank'], axis=0, ascending=False, inplace=True)"
   ]
  },
  {
   "cell_type": "code",
   "execution_count": null,
   "metadata": {},
   "outputs": [],
   "source": [
    "gopharm_df_sorted"
   ]
  },
  {
   "cell_type": "code",
   "execution_count": null,
   "metadata": {},
   "outputs": [],
   "source": [
    "alldatasetsalltissue = pd.merge(left=datasets, right=gopharm_df_sorted , how='inner', left_on='Drug', right_on='Drug')"
   ]
  },
  {
   "cell_type": "code",
   "execution_count": null,
   "metadata": {},
   "outputs": [],
   "source": [
    "alldatasetsalltissue"
   ]
  },
  {
   "cell_type": "code",
   "execution_count": null,
   "metadata": {},
   "outputs": [],
   "source": [
    "alldatasetsalltissue['avg_rank'] = alldatasetsalltissue[['Rank_DEG2Pharm', 'Rank_kda2Pharm', 'Rank']].mean(axis=1)"
   ]
  },
  {
   "cell_type": "code",
   "execution_count": null,
   "metadata": {},
   "outputs": [],
   "source": [
    "alldatasetsalltissue.sort_values(['avg_rank'], axis=0, ascending=False, inplace=True)"
   ]
  },
  {
   "cell_type": "code",
   "execution_count": null,
   "metadata": {},
   "outputs": [],
   "source": [
    "alldatasetsalltissue[['avg_rank', 'Drug', 'Tissue_DEG2Pharm', 'Tissue_kda2Pharm', 'Tissue']]"
   ]
  },
  {
   "cell_type": "code",
   "execution_count": null,
   "metadata": {},
   "outputs": [],
   "source": [
    "out_dir = \"/Users/anb/Desktop/\"\n",
    "\n",
    "alldatasetsalltissue[['avg_rank', 'Drug', 'Tissue_DEG2Pharm', 'Tissue_kda2Pharm', 'Tissue']].to_csv(os.path.join(out_dir, \"Alltissue_Ranked_Common_Drugs.tsv\"), sep='\\t', index=False)"
   ]
  },
  {
   "cell_type": "code",
   "execution_count": null,
   "metadata": {},
   "outputs": [],
   "source": []
  },
  {
   "cell_type": "code",
   "execution_count": null,
   "metadata": {},
   "outputs": [],
   "source": [
    "gopharm_df_gi = gopharm_df[gopharm_df[\"Tissue\"] == \"gastrointestinal system\"]\n",
    "gopharm_df_gi.reset_index(inplace=True,drop=True)\n",
    "gopharm_df_gi"
   ]
  },
  {
   "cell_type": "code",
   "execution_count": null,
   "metadata": {},
   "outputs": [],
   "source": [
    "gi_datasets2 = pd.merge(left=gi_datasets_test, right=gopharm_df_gi, how='inner', left_on='Drug', right_on='Drug')"
   ]
  },
  {
   "cell_type": "code",
   "execution_count": null,
   "metadata": {},
   "outputs": [],
   "source": [
    "\n",
    "gi_datasets2"
   ]
  },
  {
   "cell_type": "code",
   "execution_count": null,
   "metadata": {},
   "outputs": [],
   "source": [
    "gi_datasets2['avg_rank'] = gi_datasets2[['Rank_DEG2Pharm', 'Rank_kda2Pharm', 'Rank']].mean(axis=1)"
   ]
  },
  {
   "cell_type": "code",
   "execution_count": null,
   "metadata": {},
   "outputs": [],
   "source": [
    "gi_datasets2"
   ]
  },
  {
   "cell_type": "code",
   "execution_count": null,
   "metadata": {},
   "outputs": [],
   "source": [
    "output = gi_datasets2"
   ]
  },
  {
   "cell_type": "code",
   "execution_count": null,
   "metadata": {},
   "outputs": [],
   "source": [
    "output_sorted = output.sort_values(['avg_rank'], axis=0, ascending=False, inplace=False)"
   ]
  },
  {
   "cell_type": "code",
   "execution_count": null,
   "metadata": {},
   "outputs": [],
   "source": [
    "output_sorted"
   ]
  },
  {
   "cell_type": "code",
   "execution_count": null,
   "metadata": {},
   "outputs": [],
   "source": [
    "output_sorted[['Drug', 'Drug_network_name_x', 'Drug_network_name_x', 'SpeciesDEG2Pharm', 'Tissue_DEG2Pharm', 'avg_rank', 'Input_genes_directly_connected_to_drug_gene_x', 'Input_genes_directly_connected_to_drug_gene_y']]"
   ]
  },
  {
   "cell_type": "code",
   "execution_count": null,
   "metadata": {},
   "outputs": [],
   "source": [
    "final = output_sorted[['avg_rank', 'Drug',]]"
   ]
  },
  {
   "cell_type": "code",
   "execution_count": null,
   "metadata": {},
   "outputs": [],
   "source": [
    "final = final.rename(columns={'avg_rank' : 'Average_Rank'})\n"
   ]
  },
  {
   "cell_type": "code",
   "execution_count": null,
   "metadata": {},
   "outputs": [],
   "source": [
    "final.shape"
   ]
  },
  {
   "cell_type": "code",
   "execution_count": null,
   "metadata": {},
   "outputs": [],
   "source": []
  },
  {
   "cell_type": "code",
   "execution_count": null,
   "metadata": {},
   "outputs": [],
   "source": [
    "out_dir = \"/Users/anb/Desktop/\"\n",
    "\n",
    "final.to_csv(os.path.join(out_dir, \"Final_Ranked_Common_Drugs.tsv\"), sep='\\t', index=False)"
   ]
  }
 ],
 "metadata": {
  "interpreter": {
   "hash": "31f2aee4e71d21fbe5cf8b01ff0e069b9275f58929596ceb00d14d90e3e16cd6"
  },
  "kernelspec": {
   "display_name": "Python 3.8.9 64-bit",
   "language": "python",
   "name": "python3"
  },
  "language_info": {
   "codemirror_mode": {
    "name": "ipython",
    "version": 3
   },
   "file_extension": ".py",
   "mimetype": "text/x-python",
   "name": "python",
   "nbconvert_exporter": "python",
   "pygments_lexer": "ipython3",
   "version": "3.8.9"
  },
  "orig_nbformat": 4
 },
 "nbformat": 4,
 "nbformat_minor": 2
}
